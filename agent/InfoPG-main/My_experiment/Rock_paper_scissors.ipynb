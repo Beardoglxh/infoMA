{
 "cells": [
  {
   "cell_type": "code",
   "execution_count": 1,
   "outputs": [],
   "source": [
    "import functools\n",
    "\n",
    "import gymnasium\n",
    "import numpy as np\n",
    "from gymnasium.spaces import Discrete\n",
    "\n",
    "from pettingzoo import AECEnv\n",
    "from pettingzoo.utils import agent_selector, wrappers"
   ],
   "metadata": {
    "collapsed": false,
    "pycharm": {
     "name": "#%%\n"
    }
   }
  },
  {
   "cell_type": "code",
   "execution_count": 2,
   "outputs": [],
   "source": [
    "ROCK = 0\n",
    "PAPER = 1\n",
    "SCISSORS = 2\n",
    "NONE = 3\n",
    "MOVES = [\"ROCK\", \"PAPER\", \"SCISSORS\", \"None\"]\n",
    "NUM_ITERS = 5  # 这个常量是最大时间步。原为100。\n",
    "REWARD_MAP = {\n",
    "    (ROCK, ROCK): (0, 0),\n",
    "    (ROCK, PAPER): (-1, 1),\n",
    "    (ROCK, SCISSORS): (1, -1),\n",
    "    (PAPER, ROCK): (1, -1),\n",
    "    (PAPER, PAPER): (0, 0),\n",
    "    (PAPER, SCISSORS): (-1, 1),\n",
    "    (SCISSORS, ROCK): (-1, 1),\n",
    "    (SCISSORS, PAPER): (1, -1),\n",
    "    (SCISSORS, SCISSORS): (0, 0),\n",
    "}"
   ],
   "metadata": {
    "collapsed": false,
    "pycharm": {
     "name": "#%%\n"
    }
   }
  },
  {
   "cell_type": "code",
   "execution_count": 4,
   "outputs": [],
   "source": [
    "class raw_env(AECEnv):\n",
    "    metedata = {\"render_modes\": [\"human\"], \"name\": \"rps_v2\"}\n",
    "\n",
    "    def __init__(self, render_mode=None):\n",
    "        self.possible_agents = [\"player_\" + str(r) for r in range(2)]\n",
    "        self.agent_name_mapping = dict(\n",
    "            zip(self.possible_agents, list(range(len(self.possible_agents))))\n",
    "        )\n",
    "        self._action_spaces = {agent: Discrete(3) for agent in self.possible_agents}\n",
    "        self._observation_spaces = {\n",
    "            agent: Discrete(4) for agent in self.possible_agents\n",
    "        }\n",
    "        self.render_mode = render_mode\n",
    "\n",
    "    def reset(self, seed=None, return_info=False, options=None):\n",
    "        self.agents = self.possible_agents[:]\n",
    "        self.rewards = {agent: 0 for agent in self.agents}\n",
    "        self._cumulative_rewards = {agent: 0 for agent in self.agents}\n",
    "        self.terminations = {agent: False for agent in self.agents}\n",
    "        self.truncations = {agent: False for agent in self.agents}\n",
    "        self.infos = {agent: {} for agent in self.agents}\n",
    "        self.state = {agent: NONE for agent in self.agents}\n",
    "        self.observations = {agent: NONE for agent in self.agents}\n",
    "        self.num_moves = 0\n",
    "        self._agent_selector = agent_selector(self.agents)\n",
    "        self.agent_selection = self._agent_selector.next()\n",
    "\n",
    "    @functools.lru_cache(maxsize=None)\n",
    "    def observation_space(self, agent):\n",
    "        return Discrete(4)\n",
    "\n",
    "    @functools.lru_cache(maxsize=None)\n",
    "    def action_space(self, agent):\n",
    "        return Discrete(3)\n",
    "\n",
    "    def render(self):\n",
    "        if self.render_mode is None:\n",
    "            gymnasium.logger.warn(\n",
    "                \"You are calling render method without specifying any render mode.\"\n",
    "            )\n",
    "            return\n",
    "        if len(self.agents) == 2:\n",
    "            string = \"Current state: Agent1: {} , Agent2: {}\".format(\n",
    "                MOVES[self.state[self.agents[0]]], MOVES[self.state[self.agents[1]]]\n",
    "            )\n",
    "        else:\n",
    "            string = \"Game over\"\n",
    "        print(string)\n",
    "\n",
    "    def observe(self, agent):\n",
    "        return np.array(self.obsevations)\n",
    "\n",
    "    def close(self):\n",
    "        pass\n",
    "\n",
    "    def step(self, action):\n",
    "        if (\n",
    "                self.terminations[self.agent_selection] or self.truncations[self.agent_selection]\n",
    "        ):\n",
    "            self._was_dead_step(action)\n",
    "            return\n",
    "        agent = self.agent_selection\n",
    "        self._cumulative_rewards[agent] = 0\n",
    "        self.state[self.agent_selection] = action\n"
   ],
   "metadata": {
    "collapsed": false,
    "pycharm": {
     "name": "#%%\n"
    }
   }
  },
  {
   "cell_type": "code",
   "execution_count": 3,
   "outputs": [
    {
     "name": "stdout",
     "output_type": "stream",
     "text": [
      "['player_0', 'player_1']\n",
      "{'player_0': 0, 'player_1': 1}\n"
     ]
    }
   ],
   "source": [
    "a = [\"player_\" + str(r) for r in range(2)]\n",
    "b = dict(zip(a, list(range(len(a)))))\n",
    "print(a)\n",
    "print(b)"
   ],
   "metadata": {
    "collapsed": false,
    "pycharm": {
     "name": "#%%\n"
    }
   }
  },
  {
   "cell_type": "code",
   "execution_count": 3,
   "outputs": [],
   "source": [
    "x = 2\n",
    "if 3 <= x <= 4:\n",
    "    print(\"right\")"
   ],
   "metadata": {
    "collapsed": false,
    "pycharm": {
     "name": "#%%\n"
    },
    "ExecuteTime": {
     "end_time": "2023-11-20T09:34:48.306846500Z",
     "start_time": "2023-11-20T09:34:48.293526300Z"
    }
   }
  },
  {
   "cell_type": "code",
   "execution_count": null,
   "outputs": [],
   "source": [
    "class Solution(object):\n",
    "    def checkOverlap(self, radius, xCenter, yCenter, x1, y1, x2, y2):\n",
    "        \"\"\"\n",
    "        :type radius: int\n",
    "        :type xCenter: int\n",
    "        :type yCenter: int\n",
    "        :type x1: int\n",
    "        :type y1: int\n",
    "        :type x2: int\n",
    "        :type y2: int\n",
    "        :rtype: bool\n",
    "        \"\"\"\n",
    "        self.radius = radius\n",
    "        self.xCenter = xCenter\n",
    "        self.yCenter = yCenter\n",
    "        self.x1 = x1\n",
    "        self.y1 = y1\n",
    "        self.x2 = x2\n",
    "        self.y2 = y2\n",
    "        self.xsquare = 0.5 * (self.x1 + self.x2)\n",
    "        self.ysquare = 0.5 * (self.y1 + self.y2)\n",
    "        self.k = (self.ysquare - self.yCenter) / (self.xsquare - self.xCenter)\n",
    "        dot_list = list()\n",
    "        in_circle = False\n",
    "        in_square = False\n",
    "        if x1 <= xCenter <= x2 and y1 <= yCenter <= y2:\n",
    "            return True\n",
    "        xsquare = 0.5 * (x1 + x2)\n",
    "        ysquare = 0.5 * (y1 + y2)\n",
    "        tmp = 0\n",
    "        dot1 = (x1, self.y(x1))\n",
    "        if y1 <= dot1[1] <= y2:\n",
    "            dot_list.append(dot1)\n",
    "        dot2 = (x2, self.y(x2))\n",
    "        if y1 <= dot2[1] <= y2:\n",
    "            dot_list.append(dot2)\n",
    "        dot3 = (self.x(y1), y1)\n",
    "        if x1 <= dot3 <= x2:\n",
    "            dot_list.append(dot3)\n",
    "        dot4 = (self.x(y2), y2)\n",
    "        if x1 <= dot4 <= x2:\n",
    "            dot_list.append(dot4)\n",
    "        for i in dot_list:\n",
    "            if (i[0] - xCenter) ** 2 + (i[1] - yCenter) ** 2 <= radius ** 2:\n",
    "                return True\n",
    "        return False\n",
    "\n",
    "    def y(self, x):\n",
    "        return self.k * (x - self.xsquare) + self.ysquare\n",
    "\n",
    "    def x(self, y):\n",
    "        return 1 / self.k * (y - self.ysquare) + self.xsquare"
   ],
   "metadata": {
    "collapsed": false
   }
  }
 ],
 "metadata": {
  "kernelspec": {
   "display_name": "Python 3",
   "language": "python",
   "name": "python3"
  },
  "language_info": {
   "codemirror_mode": {
    "name": "ipython",
    "version": 2
   },
   "file_extension": ".py",
   "mimetype": "text/x-python",
   "name": "python",
   "nbconvert_exporter": "python",
   "pygments_lexer": "ipython2",
   "version": "2.7.6"
  }
 },
 "nbformat": 4,
 "nbformat_minor": 0
}
